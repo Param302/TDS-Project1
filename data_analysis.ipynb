{
 "cells": [
  {
   "cell_type": "code",
   "execution_count": 1,
   "metadata": {},
   "outputs": [],
   "source": [
    "import numpy as np\n",
    "import pandas as pd"
   ]
  },
  {
   "cell_type": "code",
   "execution_count": 37,
   "metadata": {},
   "outputs": [],
   "source": [
    "users = pd.read_csv(\"users.csv\")\n",
    "repos = pd.read_csv(\"./repositories.csv\")"
   ]
  },
  {
   "cell_type": "code",
   "execution_count": 3,
   "metadata": {},
   "outputs": [
    {
     "name": "stdout",
     "output_type": "stream",
     "text": [
      "<class 'pandas.core.frame.DataFrame'>\n",
      "RangeIndex: 360 entries, 0 to 359\n",
      "Data columns (total 11 columns):\n",
      " #   Column        Non-Null Count  Dtype \n",
      "---  ------        --------------  ----- \n",
      " 0   login         360 non-null    object\n",
      " 1   name          341 non-null    object\n",
      " 2   company       233 non-null    object\n",
      " 3   location      360 non-null    object\n",
      " 4   email         252 non-null    object\n",
      " 5   hireable      360 non-null    bool  \n",
      " 6   bio           272 non-null    object\n",
      " 7   public_repos  360 non-null    int64 \n",
      " 8   followers     360 non-null    int64 \n",
      " 9   following     360 non-null    int64 \n",
      " 10  created_at    360 non-null    object\n",
      "dtypes: bool(1), int64(3), object(7)\n",
      "memory usage: 28.6+ KB\n"
     ]
    }
   ],
   "source": [
    "users.info()"
   ]
  },
  {
   "cell_type": "markdown",
   "metadata": {},
   "source": [
    "#### Q1: Who are the top 5 users in Beijing with the highest number of followers? List their login in order, comma-separated."
   ]
  },
  {
   "cell_type": "code",
   "execution_count": 4,
   "metadata": {},
   "outputs": [
    {
     "data": {
      "text/plain": [
       "0        michaelliao\n",
       "1           daimajia\n",
       "2            xiaolai\n",
       "3          draveness\n",
       "4    hongyangAndroid\n",
       "Name: login, dtype: object"
      ]
     },
     "execution_count": 4,
     "metadata": {},
     "output_type": "execute_result"
    }
   ],
   "source": [
    "top_5_followers_users = users.iloc[users[\"followers\"].nlargest(\n",
    "    5).index][\"login\"]\n",
    "\n",
    "top_5_followers_users"
   ]
  },
  {
   "cell_type": "code",
   "execution_count": 5,
   "metadata": {},
   "outputs": [
    {
     "data": {
      "text/plain": [
       "'michaelliao,daimajia,xiaolai,draveness,hongyangAndroid'"
      ]
     },
     "execution_count": 5,
     "metadata": {},
     "output_type": "execute_result"
    }
   ],
   "source": [
    "\",\".join(top_5_followers_users)"
   ]
  },
  {
   "cell_type": "markdown",
   "metadata": {},
   "source": [
    "#### Q2: Who are the 5 earliest registered GitHub users in Beijing? List their login in ascending order of created_at, comma-separated."
   ]
  },
  {
   "cell_type": "code",
   "execution_count": 6,
   "metadata": {},
   "outputs": [
    {
     "data": {
      "text/plain": [
       "295           robin\n",
       "111           nwind\n",
       "125           reeze\n",
       "72            kejun\n",
       "98     ZhangHanDong\n",
       "Name: login, dtype: object"
      ]
     },
     "execution_count": 6,
     "metadata": {},
     "output_type": "execute_result"
    }
   ],
   "source": [
    "earliest_5_users = users.iloc[pd.to_datetime(\n",
    "    users[\"created_at\"]).nsmallest(5).index][\"login\"]\n",
    "earliest_5_users"
   ]
  },
  {
   "cell_type": "code",
   "execution_count": 7,
   "metadata": {},
   "outputs": [
    {
     "data": {
      "text/plain": [
       "'robin,nwind,reeze,kejun,ZhangHanDong'"
      ]
     },
     "execution_count": 7,
     "metadata": {},
     "output_type": "execute_result"
    }
   ],
   "source": [
    "\",\".join(earliest_5_users)"
   ]
  },
  {
   "cell_type": "markdown",
   "metadata": {},
   "source": [
    "#### Q3: What are the 3 most popular license among these users? Ignore missing licenses. List the license_name in order, comma-separated."
   ]
  },
  {
   "cell_type": "code",
   "execution_count": 8,
   "metadata": {},
   "outputs": [
    {
     "name": "stdout",
     "output_type": "stream",
     "text": [
      "<class 'pandas.core.frame.DataFrame'>\n",
      "RangeIndex: 29561 entries, 0 to 29560\n",
      "Data columns (total 9 columns):\n",
      " #   Column            Non-Null Count  Dtype \n",
      "---  ------            --------------  ----- \n",
      " 0   login             29561 non-null  object\n",
      " 1   full_name         29561 non-null  object\n",
      " 2   created_at        29561 non-null  object\n",
      " 3   stargazers_count  29561 non-null  int64 \n",
      " 4   watchers_count    29561 non-null  int64 \n",
      " 5   language          20759 non-null  object\n",
      " 6   has_projects      29561 non-null  bool  \n",
      " 7   has_wiki          29561 non-null  bool  \n",
      " 8   license_name      16070 non-null  object\n",
      "dtypes: bool(2), int64(2), object(5)\n",
      "memory usage: 1.6+ MB\n"
     ]
    }
   ],
   "source": [
    "repos.info()"
   ]
  },
  {
   "cell_type": "code",
   "execution_count": 16,
   "metadata": {},
   "outputs": [
    {
     "data": {
      "text/plain": [
       "Index([nan, 'mit', 'apache-2.0', 'other', 'gpl-3.0'], dtype='object', name='license_name')"
      ]
     },
     "execution_count": 16,
     "metadata": {},
     "output_type": "execute_result"
    }
   ],
   "source": [
    "top_3_license = repos[\"license_name\"].value_counts(\n",
    "    dropna=False).nlargest(5).index\n",
    "top_3_license"
   ]
  },
  {
   "cell_type": "code",
   "execution_count": 17,
   "metadata": {},
   "outputs": [
    {
     "data": {
      "text/plain": [
       "'nan,mit,apache-2.0,other,gpl-3.0'"
      ]
     },
     "execution_count": 17,
     "metadata": {},
     "output_type": "execute_result"
    }
   ],
   "source": [
    "\",\".join([str(license) for license in top_3_license])"
   ]
  },
  {
   "cell_type": "markdown",
   "metadata": {},
   "source": [
    "#### Q4: Which company do the majority of these developers work at?"
   ]
  },
  {
   "cell_type": "code",
   "execution_count": 18,
   "metadata": {},
   "outputs": [
    {
     "data": {
      "text/plain": [
       "company\n",
       "NaN                    127\n",
       "BYTEDANCE               12\n",
       "ALIBABA                  9\n",
       "PEKING UNIVERSITY        7\n",
       "TSINGHUA UNIVERSITY      7\n",
       "                      ... \n",
       "FMSOFT                   1\n",
       "TENCENTARC               1\n",
       "RESIX-OS                 1\n",
       "BUPT                     1\n",
       "MT                       1\n",
       "Name: count, Length: 180, dtype: int64"
      ]
     },
     "execution_count": 18,
     "metadata": {},
     "output_type": "execute_result"
    }
   ],
   "source": [
    "users[\"company\"].value_counts(dropna=False)"
   ]
  },
  {
   "cell_type": "markdown",
   "metadata": {},
   "source": [
    "#### Q5: Which programming language is most popular among these users?"
   ]
  },
  {
   "cell_type": "code",
   "execution_count": 19,
   "metadata": {},
   "outputs": [
    {
     "data": {
      "text/plain": [
       "language\n",
       "NaN                    8802\n",
       "JavaScript             4446\n",
       "Python                 3282\n",
       "Java                   2197\n",
       "Go                     1361\n",
       "                       ... \n",
       "M4                        1\n",
       "NSIS                      1\n",
       "Pug                       1\n",
       "Earthly                   1\n",
       "Game Maker Language       1\n",
       "Name: count, Length: 144, dtype: int64"
      ]
     },
     "execution_count": 19,
     "metadata": {},
     "output_type": "execute_result"
    }
   ],
   "source": [
    "repos[\"language\"].value_counts(dropna=False)"
   ]
  },
  {
   "cell_type": "markdown",
   "metadata": {},
   "source": [
    "#### Q6: Which programming language is the second most popular among users who joined after 2020?"
   ]
  },
  {
   "cell_type": "code",
   "execution_count": 20,
   "metadata": {},
   "outputs": [],
   "source": [
    "users_after_2020 = users[pd.to_datetime(users[\"created_at\"]).dt.year > 2020]"
   ]
  },
  {
   "cell_type": "code",
   "execution_count": 21,
   "metadata": {},
   "outputs": [
    {
     "data": {
      "text/plain": [
       "language\n",
       "Python              10\n",
       "NaN                  9\n",
       "HTML                 6\n",
       "TypeScript           5\n",
       "C++                  3\n",
       "JavaScript           3\n",
       "Jupyter Notebook     3\n",
       "Astro                2\n",
       "Vue                  2\n",
       "C#                   2\n",
       "Name: count, dtype: int64"
      ]
     },
     "execution_count": 21,
     "metadata": {},
     "output_type": "execute_result"
    }
   ],
   "source": [
    "repos[repos[\"login\"].isin(users_after_2020[\"login\"])\n",
    "      ][\"language\"].value_counts(dropna=False)"
   ]
  },
  {
   "cell_type": "markdown",
   "metadata": {},
   "source": [
    "#### Q7: Which language has the highest average number of stars per repository?"
   ]
  },
  {
   "cell_type": "code",
   "execution_count": 22,
   "metadata": {},
   "outputs": [
    {
     "data": {
      "text/plain": [
       "stargazers_count\n",
       "0       16458\n",
       "1        3877\n",
       "2        1619\n",
       "3         785\n",
       "4         584\n",
       "        ...  \n",
       "1019        1\n",
       "4979        1\n",
       "618         1\n",
       "979         1\n",
       "6242        1\n",
       "Name: count, Length: 1098, dtype: int64"
      ]
     },
     "execution_count": 22,
     "metadata": {},
     "output_type": "execute_result"
    }
   ],
   "source": [
    "repos[\"stargazers_count\"].value_counts()"
   ]
  },
  {
   "cell_type": "code",
   "execution_count": 23,
   "metadata": {},
   "outputs": [
    {
     "data": {
      "text/plain": [
       "language\n",
       "Jinja         3420.000000\n",
       "Solidity      1286.666667\n",
       "VBScript       698.000000\n",
       "Lex            643.000000\n",
       "TeX            294.222222\n",
       "Stylus         232.400000\n",
       "TypeScript     205.325088\n",
       "Java           190.801092\n",
       "MATLAB         189.840000\n",
       "VBA            182.000000\n",
       "Name: stargazers_count, dtype: float64"
      ]
     },
     "execution_count": 23,
     "metadata": {},
     "output_type": "execute_result"
    }
   ],
   "source": [
    "repos.groupby(\"language\")[\"stargazers_count\"].mean().nlargest(10)"
   ]
  },
  {
   "cell_type": "markdown",
   "metadata": {},
   "source": [
    "#### Q8: Let's define `leader_strength` as `followers / (1 + following)`. Who are the top 5 in terms of leader_strength? List their login in order, comma-separated."
   ]
  },
  {
   "cell_type": "code",
   "execution_count": 24,
   "metadata": {},
   "outputs": [],
   "source": [
    "users[\"leader_strength\"] = users[[\"followers\", \"following\"]].apply(\n",
    "    lambda x: x[\"followers\"] / (1 + x[\"following\"]), axis=1)"
   ]
  },
  {
   "cell_type": "code",
   "execution_count": 25,
   "metadata": {},
   "outputs": [
    {
     "data": {
      "text/plain": [
       "0     michaelliao\n",
       "9       ityouknow\n",
       "14    liuhuanyong\n",
       "32         thunlp\n",
       "35        shenghy\n",
       "Name: login, dtype: object"
      ]
     },
     "execution_count": 25,
     "metadata": {},
     "output_type": "execute_result"
    }
   ],
   "source": [
    "top_5_leaders = users.iloc[users[\"leader_strength\"].nlargest(5).index][\"login\"]\n",
    "top_5_leaders"
   ]
  },
  {
   "cell_type": "code",
   "execution_count": 26,
   "metadata": {},
   "outputs": [
    {
     "data": {
      "text/plain": [
       "'michaelliao,ityouknow,liuhuanyong,thunlp,shenghy'"
      ]
     },
     "execution_count": 26,
     "metadata": {},
     "output_type": "execute_result"
    }
   ],
   "source": [
    "\",\".join(top_5_leaders)"
   ]
  },
  {
   "cell_type": "markdown",
   "metadata": {},
   "source": [
    "#### Q9: What is the correlation between the number of followers and the number of public repositories among users in Beijing?"
   ]
  },
  {
   "cell_type": "code",
   "execution_count": 27,
   "metadata": {},
   "outputs": [
    {
     "data": {
      "text/html": [
       "<div>\n",
       "<style scoped>\n",
       "    .dataframe tbody tr th:only-of-type {\n",
       "        vertical-align: middle;\n",
       "    }\n",
       "\n",
       "    .dataframe tbody tr th {\n",
       "        vertical-align: top;\n",
       "    }\n",
       "\n",
       "    .dataframe thead th {\n",
       "        text-align: right;\n",
       "    }\n",
       "</style>\n",
       "<table border=\"1\" class=\"dataframe\">\n",
       "  <thead>\n",
       "    <tr style=\"text-align: right;\">\n",
       "      <th></th>\n",
       "      <th>followers</th>\n",
       "      <th>public_repos</th>\n",
       "    </tr>\n",
       "  </thead>\n",
       "  <tbody>\n",
       "    <tr>\n",
       "      <th>followers</th>\n",
       "      <td>1.000000</td>\n",
       "      <td>0.032818</td>\n",
       "    </tr>\n",
       "    <tr>\n",
       "      <th>public_repos</th>\n",
       "      <td>0.032818</td>\n",
       "      <td>1.000000</td>\n",
       "    </tr>\n",
       "  </tbody>\n",
       "</table>\n",
       "</div>"
      ],
      "text/plain": [
       "              followers  public_repos\n",
       "followers      1.000000      0.032818\n",
       "public_repos   0.032818      1.000000"
      ]
     },
     "execution_count": 27,
     "metadata": {},
     "output_type": "execute_result"
    }
   ],
   "source": [
    "users[[\"followers\", \"public_repos\"]].corr()"
   ]
  },
  {
   "cell_type": "markdown",
   "metadata": {},
   "source": [
    "#### Q10: Does creating more repos help users get more followers? Using regression, estimate how many additional followers a user gets per additional public repository"
   ]
  },
  {
   "cell_type": "code",
   "execution_count": 28,
   "metadata": {},
   "outputs": [
    {
     "data": {
      "text/plain": [
       "np.float64(0.655)"
      ]
     },
     "execution_count": 28,
     "metadata": {},
     "output_type": "execute_result"
    }
   ],
   "source": [
    "slope, intercept = np.polyfit(users[\"public_repos\"], users[\"followers\"], 1)\n",
    "round(slope, 3)"
   ]
  },
  {
   "cell_type": "markdown",
   "metadata": {},
   "source": [
    "#### Q11: Do people typically enable projects and wikis together? What is the correlation between a repo having projects enabled and having wiki enabled?"
   ]
  },
  {
   "cell_type": "code",
   "execution_count": 29,
   "metadata": {},
   "outputs": [
    {
     "data": {
      "text/html": [
       "<div>\n",
       "<style scoped>\n",
       "    .dataframe tbody tr th:only-of-type {\n",
       "        vertical-align: middle;\n",
       "    }\n",
       "\n",
       "    .dataframe tbody tr th {\n",
       "        vertical-align: top;\n",
       "    }\n",
       "\n",
       "    .dataframe thead th {\n",
       "        text-align: right;\n",
       "    }\n",
       "</style>\n",
       "<table border=\"1\" class=\"dataframe\">\n",
       "  <thead>\n",
       "    <tr style=\"text-align: right;\">\n",
       "      <th></th>\n",
       "      <th>has_projects</th>\n",
       "      <th>has_wiki</th>\n",
       "    </tr>\n",
       "  </thead>\n",
       "  <tbody>\n",
       "    <tr>\n",
       "      <th>has_projects</th>\n",
       "      <td>1.000000</td>\n",
       "      <td>0.280184</td>\n",
       "    </tr>\n",
       "    <tr>\n",
       "      <th>has_wiki</th>\n",
       "      <td>0.280184</td>\n",
       "      <td>1.000000</td>\n",
       "    </tr>\n",
       "  </tbody>\n",
       "</table>\n",
       "</div>"
      ],
      "text/plain": [
       "              has_projects  has_wiki\n",
       "has_projects      1.000000  0.280184\n",
       "has_wiki          0.280184  1.000000"
      ]
     },
     "execution_count": 29,
     "metadata": {},
     "output_type": "execute_result"
    }
   ],
   "source": [
    "repos[[\"has_projects\", \"has_wiki\"]].corr()"
   ]
  },
  {
   "cell_type": "markdown",
   "metadata": {},
   "source": [
    "#### Q12: Do hireable users follow more people than those who are not hireable?"
   ]
  },
  {
   "cell_type": "code",
   "execution_count": 38,
   "metadata": {},
   "outputs": [
    {
     "data": {
      "text/plain": [
       "np.float64(114.894)"
      ]
     },
     "execution_count": 38,
     "metadata": {},
     "output_type": "execute_result"
    }
   ],
   "source": [
    "round(users.groupby(\"hireable\")[\"followers\"].mean().diff().iloc[-1], 3)"
   ]
  },
  {
   "cell_type": "code",
   "execution_count": 39,
   "metadata": {},
   "outputs": [
    {
     "data": {
      "text/plain": [
       "np.float64(149.014)"
      ]
     },
     "execution_count": 39,
     "metadata": {},
     "output_type": "execute_result"
    }
   ],
   "source": [
    "hireable_avg_following = users[users['hireable'] == True]['following'].mean()\n",
    "non_hireable_avg_following = users[users['hireable']\n",
    "                                   == False]['following'].mean()\n",
    "difference = hireable_avg_following - non_hireable_avg_following\n",
    "round(difference, 3)"
   ]
  },
  {
   "cell_type": "markdown",
   "metadata": {},
   "source": [
    "#### Q13: Some developers write long bios. Does that help them get more followers? What's the correlation of the length of their bio (in Unicode characters) with followers? (Ignore people without bios)"
   ]
  },
  {
   "cell_type": "code",
   "execution_count": 166,
   "metadata": {},
   "outputs": [],
   "source": [
    "users[\"bio_length\"] = users[\"bio\"].apply(\n",
    "    lambda x: len(str(x).split()) if str(x).strip() != \"\" else 0)"
   ]
  },
  {
   "cell_type": "code",
   "execution_count": 167,
   "metadata": {},
   "outputs": [
    {
     "data": {
      "text/html": [
       "<div>\n",
       "<style scoped>\n",
       "    .dataframe tbody tr th:only-of-type {\n",
       "        vertical-align: middle;\n",
       "    }\n",
       "\n",
       "    .dataframe tbody tr th {\n",
       "        vertical-align: top;\n",
       "    }\n",
       "\n",
       "    .dataframe thead th {\n",
       "        text-align: right;\n",
       "    }\n",
       "</style>\n",
       "<table border=\"1\" class=\"dataframe\">\n",
       "  <thead>\n",
       "    <tr style=\"text-align: right;\">\n",
       "      <th></th>\n",
       "      <th>bio_length</th>\n",
       "      <th>followers</th>\n",
       "    </tr>\n",
       "  </thead>\n",
       "  <tbody>\n",
       "    <tr>\n",
       "      <th>bio_length</th>\n",
       "      <td>1.000000</td>\n",
       "      <td>0.019545</td>\n",
       "    </tr>\n",
       "    <tr>\n",
       "      <th>followers</th>\n",
       "      <td>0.019545</td>\n",
       "      <td>1.000000</td>\n",
       "    </tr>\n",
       "  </tbody>\n",
       "</table>\n",
       "</div>"
      ],
      "text/plain": [
       "            bio_length  followers\n",
       "bio_length    1.000000   0.019545\n",
       "followers     0.019545   1.000000"
      ]
     },
     "execution_count": 167,
     "metadata": {},
     "output_type": "execute_result"
    }
   ],
   "source": [
    "users[users[\"bio_length\"] > 0][[\"bio_length\", \"followers\"]].corr()"
   ]
  },
  {
   "cell_type": "code",
   "execution_count": 168,
   "metadata": {},
   "outputs": [],
   "source": [
    "bio_length, followers = users[users[\"bio_length\"]\n",
    "                              > 0][\"bio_length\"], users[users[\"bio_length\"] > 0][\"followers\"]"
   ]
  },
  {
   "cell_type": "code",
   "execution_count": 169,
   "metadata": {},
   "outputs": [
    {
     "data": {
      "text/plain": [
       "np.float64(10.731)"
      ]
     },
     "execution_count": 169,
     "metadata": {},
     "output_type": "execute_result"
    }
   ],
   "source": [
    "slope, intercept = np.polyfit(bio_length, followers, 1)\n",
    "round(slope, 3)"
   ]
  },
  {
   "cell_type": "code",
   "execution_count": 46,
   "metadata": {},
   "outputs": [
    {
     "data": {
      "text/plain": [
       "array([ -11.02357918, 1860.54361296])"
      ]
     },
     "execution_count": 46,
     "metadata": {},
     "output_type": "execute_result"
    }
   ],
   "source": [
    "users_with_bio = users[(users['bio'].notna()) & (users['bio'] != '')].copy()\n",
    "users_with_bio.loc[:, 'bio_len'] = users_with_bio['bio'].apply(\n",
    "    lambda x: len(x.split()))\n",
    "\n",
    "np.polyfit(users_with_bio['bio_len'], users_with_bio['followers'], 1)"
   ]
  },
  {
   "cell_type": "markdown",
   "metadata": {},
   "source": [
    "#### Q14: Who created the most repositories on weekends (UTC)? List the top 5 users' login in order, comma-separated"
   ]
  },
  {
   "cell_type": "code",
   "execution_count": 179,
   "metadata": {},
   "outputs": [
    {
     "data": {
      "text/plain": [
       "Index(['LinuxSuRen', 'zhufengnodejs', 'i5ting', 'mozillazg', 'hailiang-wang'], dtype='object', name='login')"
      ]
     },
     "execution_count": 179,
     "metadata": {},
     "output_type": "execute_result"
    }
   ],
   "source": [
    "top_5_users_of_weekend_repos = repos[pd.to_datetime(repos[\"created_at\"]).dt.dayofweek.isin(\n",
    "    [5, 6])][\"login\"].value_counts().nlargest(5).index\n",
    "top_5_users_of_weekend_repos"
   ]
  },
  {
   "cell_type": "code",
   "execution_count": 180,
   "metadata": {},
   "outputs": [
    {
     "data": {
      "text/plain": [
       "'LinuxSuRen,zhufengnodejs,i5ting,mozillazg,hailiang-wang'"
      ]
     },
     "execution_count": 180,
     "metadata": {},
     "output_type": "execute_result"
    }
   ],
   "source": [
    "\",\".join(top_5_users_of_weekend_repos)"
   ]
  },
  {
   "cell_type": "markdown",
   "metadata": {},
   "source": [
    "#### Q15: Do people who are hireable share their email addresses more often?"
   ]
  },
  {
   "cell_type": "code",
   "execution_count": 188,
   "metadata": {},
   "outputs": [
    {
     "data": {
      "text/plain": [
       "hireable\n",
       "False    176\n",
       "True      76\n",
       "Name: email, dtype: int64"
      ]
     },
     "execution_count": 188,
     "metadata": {},
     "output_type": "execute_result"
    }
   ],
   "source": [
    "users.groupby(\"hireable\")[\"email\"].count(), users.groupby(\"hireable\")[\"email\"].count()"
   ]
  },
  {
   "cell_type": "code",
   "execution_count": 192,
   "metadata": {},
   "outputs": [
    {
     "name": "stderr",
     "output_type": "stream",
     "text": [
      "/tmp/ipykernel_863494/63015783.py:1: DeprecationWarning: DataFrameGroupBy.apply operated on the grouping columns. This behavior is deprecated, and in a future version of pandas the grouping columns will be excluded from the operation. Either pass `include_groups=False` to exclude the groupings or explicitly select the grouping columns after groupby to silence this warning.\n",
      "  email_by_hireable = users.groupby('hireable').apply(\n"
     ]
    },
    {
     "data": {
      "text/plain": [
       "hireable\n",
       "False         NaN\n",
       "True     0.072939\n",
       "dtype: float64"
      ]
     },
     "execution_count": 192,
     "metadata": {},
     "output_type": "execute_result"
    }
   ],
   "source": [
    "email_by_hireable = users.groupby('hireable').apply(\n",
    "    lambda group: (group['email'].notna().mean()))\n",
    "email_by_hireable.diff()"
   ]
  },
  {
   "cell_type": "code",
   "execution_count": 47,
   "metadata": {},
   "outputs": [
    {
     "data": {
      "text/plain": [
       "np.float64(0.073)"
      ]
     },
     "execution_count": 47,
     "metadata": {},
     "output_type": "execute_result"
    }
   ],
   "source": [
    "fraction_hierable = users[users['hireable'] == True]['email'].notna().mean()\n",
    "fraction_non_hierable = users[users['hireable']\n",
    "                              == False]['email'].notna().mean()\n",
    "diff = fraction_hierable - fraction_non_hierable\n",
    "round(diff, 3)"
   ]
  },
  {
   "cell_type": "markdown",
   "metadata": {},
   "source": [
    "#### Q16: Let's assume that the last word in a user's name is their surname (ignore missing names, trim and split by whitespace.) What's the most common surname? (If there's a tie, list them all, comma-separated, alphabetically)"
   ]
  },
  {
   "cell_type": "code",
   "execution_count": 49,
   "metadata": {},
   "outputs": [
    {
     "data": {
      "text/plain": [
       "surname\n",
       "Zhang    11\n",
       "Name: count, dtype: int64"
      ]
     },
     "execution_count": 49,
     "metadata": {},
     "output_type": "execute_result"
    }
   ],
   "source": [
    "users[\"surname\"] = users[\"name\"].apply(\n",
    "    lambda x: x.strip().split()[-1] if pd.notna(x) else x)\n",
    "max_count = users[\"surname\"].value_counts().max()\n",
    "users[\"surname\"].value_counts()[users[\"surname\"].value_counts() == max_count]"
   ]
  },
  {
   "cell_type": "code",
   "execution_count": null,
   "metadata": {},
   "outputs": [],
   "source": []
  }
 ],
 "metadata": {
  "kernelspec": {
   "display_name": "env",
   "language": "python",
   "name": "python3"
  },
  "language_info": {
   "codemirror_mode": {
    "name": "ipython",
    "version": 3
   },
   "file_extension": ".py",
   "mimetype": "text/x-python",
   "name": "python",
   "nbconvert_exporter": "python",
   "pygments_lexer": "ipython3",
   "version": "3.10.12"
  }
 },
 "nbformat": 4,
 "nbformat_minor": 2
}
