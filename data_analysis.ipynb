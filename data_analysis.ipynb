{
 "cells": [
  {
   "cell_type": "code",
   "execution_count": 1,
   "metadata": {},
   "outputs": [],
   "source": [
    "import pandas as pd"
   ]
  },
  {
   "cell_type": "code",
   "execution_count": 77,
   "metadata": {},
   "outputs": [],
   "source": [
    "users = pd.read_csv(\"users.csv\")\n",
    "repos = pd.read_csv(\"./repositories.csv\")"
   ]
  },
  {
   "cell_type": "code",
   "execution_count": 4,
   "metadata": {},
   "outputs": [
    {
     "name": "stdout",
     "output_type": "stream",
     "text": [
      "<class 'pandas.core.frame.DataFrame'>\n",
      "RangeIndex: 360 entries, 0 to 359\n",
      "Data columns (total 11 columns):\n",
      " #   Column        Non-Null Count  Dtype \n",
      "---  ------        --------------  ----- \n",
      " 0   login         360 non-null    object\n",
      " 1   name          341 non-null    object\n",
      " 2   company       233 non-null    object\n",
      " 3   location      360 non-null    object\n",
      " 4   email         252 non-null    object\n",
      " 5   hireable      101 non-null    object\n",
      " 6   bio           272 non-null    object\n",
      " 7   public_repos  360 non-null    int64 \n",
      " 8   followers     360 non-null    int64 \n",
      " 9   following     360 non-null    int64 \n",
      " 10  created_at    360 non-null    object\n",
      "dtypes: int64(3), object(8)\n",
      "memory usage: 31.1+ KB\n"
     ]
    }
   ],
   "source": [
    "users.info()"
   ]
  },
  {
   "cell_type": "markdown",
   "metadata": {},
   "source": [
    "#### Q1: Who are the top 5 users in Beijing with the highest number of followers? List their login in order, comma-separated."
   ]
  },
  {
   "cell_type": "code",
   "execution_count": 12,
   "metadata": {},
   "outputs": [
    {
     "data": {
      "text/plain": [
       "0        michaelliao\n",
       "1           daimajia\n",
       "2            xiaolai\n",
       "3          draveness\n",
       "4    hongyangAndroid\n",
       "Name: login, dtype: object"
      ]
     },
     "execution_count": 12,
     "metadata": {},
     "output_type": "execute_result"
    }
   ],
   "source": [
    "top_5_followers_users = users.iloc[users[\"followers\"].nlargest(\n",
    "    5).index][\"login\"]\n",
    "\n",
    "top_5_followers_users"
   ]
  },
  {
   "cell_type": "code",
   "execution_count": 13,
   "metadata": {},
   "outputs": [
    {
     "data": {
      "text/plain": [
       "'michaelliao,daimajia,xiaolai,draveness,hongyangAndroid'"
      ]
     },
     "execution_count": 13,
     "metadata": {},
     "output_type": "execute_result"
    }
   ],
   "source": [
    "\",\".join(top_5_followers_users)"
   ]
  },
  {
   "cell_type": "markdown",
   "metadata": {},
   "source": [
    "#### Q2: Who are the 5 earliest registered GitHub users in Beijing? List their login in ascending order of created_at, comma-separated."
   ]
  },
  {
   "cell_type": "code",
   "execution_count": 21,
   "metadata": {},
   "outputs": [
    {
     "data": {
      "text/plain": [
       "295           robin\n",
       "111           nwind\n",
       "125           reeze\n",
       "72            kejun\n",
       "98     ZhangHanDong\n",
       "Name: login, dtype: object"
      ]
     },
     "execution_count": 21,
     "metadata": {},
     "output_type": "execute_result"
    }
   ],
   "source": [
    "earliest_5_users = users.iloc[pd.to_datetime(\n",
    "    users[\"created_at\"]).nsmallest(5).index][\"login\"]\n",
    "earliest_5_users"
   ]
  },
  {
   "cell_type": "code",
   "execution_count": 22,
   "metadata": {},
   "outputs": [
    {
     "data": {
      "text/plain": [
       "'robin,nwind,reeze,kejun,ZhangHanDong'"
      ]
     },
     "execution_count": 22,
     "metadata": {},
     "output_type": "execute_result"
    }
   ],
   "source": [
    "\",\".join(earliest_5_users)"
   ]
  },
  {
   "cell_type": "markdown",
   "metadata": {},
   "source": [
    "#### Q3: What are the 3 most popular license among these users? Ignore missing licenses. List the license_name in order, comma-separated."
   ]
  },
  {
   "cell_type": "code",
   "execution_count": 24,
   "metadata": {},
   "outputs": [
    {
     "name": "stdout",
     "output_type": "stream",
     "text": [
      "<class 'pandas.core.frame.DataFrame'>\n",
      "RangeIndex: 29561 entries, 0 to 29560\n",
      "Data columns (total 9 columns):\n",
      " #   Column            Non-Null Count  Dtype \n",
      "---  ------            --------------  ----- \n",
      " 0   login             29561 non-null  object\n",
      " 1   full_name         29561 non-null  object\n",
      " 2   created_at        29561 non-null  object\n",
      " 3   stargazers_count  29561 non-null  object\n",
      " 4   watchers_count    29561 non-null  object\n",
      " 5   language          20759 non-null  object\n",
      " 6   has_projects      29561 non-null  bool  \n",
      " 7   has_wiki          29561 non-null  bool  \n",
      " 8   license_name      16070 non-null  object\n",
      "dtypes: bool(2), object(7)\n",
      "memory usage: 1.6+ MB\n"
     ]
    }
   ],
   "source": [
    "repos.info()"
   ]
  },
  {
   "cell_type": "code",
   "execution_count": 52,
   "metadata": {},
   "outputs": [
    {
     "data": {
      "text/plain": [
       "Index([nan, 'mit', 'apache-2.0'], dtype='object', name='license_name')"
      ]
     },
     "execution_count": 52,
     "metadata": {},
     "output_type": "execute_result"
    }
   ],
   "source": [
    "top_3_license = repos[\"license_name\"].value_counts(\n",
    "    dropna=False).nlargest(3).index\n",
    "top_3_license"
   ]
  },
  {
   "cell_type": "code",
   "execution_count": 55,
   "metadata": {},
   "outputs": [
    {
     "data": {
      "text/plain": [
       "'nan,mit,apache-2.0'"
      ]
     },
     "execution_count": 55,
     "metadata": {},
     "output_type": "execute_result"
    }
   ],
   "source": [
    "\",\".join([str(license) for license in top_3_license])"
   ]
  },
  {
   "cell_type": "markdown",
   "metadata": {},
   "source": [
    "#### Q4: Which company do the majority of these developers work at?"
   ]
  },
  {
   "cell_type": "code",
   "execution_count": 56,
   "metadata": {},
   "outputs": [
    {
     "data": {
      "text/plain": [
       "company\n",
       "NaN                    127\n",
       "BYTEDANCE               12\n",
       "ALIBABA                  9\n",
       "PEKING UNIVERSITY        7\n",
       "TSINGHUA UNIVERSITY      7\n",
       "                      ... \n",
       "FMSOFT                   1\n",
       "TENCENTARC               1\n",
       "RESIX-OS                 1\n",
       "BUPT                     1\n",
       "MT                       1\n",
       "Name: count, Length: 180, dtype: int64"
      ]
     },
     "execution_count": 56,
     "metadata": {},
     "output_type": "execute_result"
    }
   ],
   "source": [
    "users[\"company\"].value_counts(dropna=False)"
   ]
  },
  {
   "cell_type": "markdown",
   "metadata": {},
   "source": [
    "#### Q5: Which programming language is most popular among these users?"
   ]
  },
  {
   "cell_type": "code",
   "execution_count": 59,
   "metadata": {},
   "outputs": [
    {
     "data": {
      "text/plain": [
       "language\n",
       "NaN                    8802\n",
       "JavaScript             4446\n",
       "Python                 3282\n",
       "Java                   2197\n",
       "Go                     1361\n",
       "                       ... \n",
       "M4                        1\n",
       "NSIS                      1\n",
       "Pug                       1\n",
       "Earthly                   1\n",
       "Game Maker Language       1\n",
       "Name: count, Length: 144, dtype: int64"
      ]
     },
     "execution_count": 59,
     "metadata": {},
     "output_type": "execute_result"
    }
   ],
   "source": [
    "repos[\"language\"].value_counts(dropna=False)"
   ]
  },
  {
   "cell_type": "markdown",
   "metadata": {},
   "source": [
    "#### Q6: Which programming language is the second most popular among users who joined after 2020?"
   ]
  },
  {
   "cell_type": "code",
   "execution_count": 61,
   "metadata": {},
   "outputs": [],
   "source": [
    "users_after_2020 = users[pd.to_datetime(users[\"created_at\"]).dt.year > 2020]"
   ]
  },
  {
   "cell_type": "code",
   "execution_count": 63,
   "metadata": {},
   "outputs": [
    {
     "data": {
      "text/plain": [
       "language\n",
       "Python              10\n",
       "NaN                  9\n",
       "HTML                 6\n",
       "TypeScript           5\n",
       "C++                  3\n",
       "JavaScript           3\n",
       "Jupyter Notebook     3\n",
       "Astro                2\n",
       "Vue                  2\n",
       "C#                   2\n",
       "Name: count, dtype: int64"
      ]
     },
     "execution_count": 63,
     "metadata": {},
     "output_type": "execute_result"
    }
   ],
   "source": [
    "repos[repos[\"login\"].isin(users_after_2020[\"login\"])\n",
    "      ][\"language\"].value_counts(dropna=False)"
   ]
  },
  {
   "cell_type": "markdown",
   "metadata": {},
   "source": [
    "#### Q7: Which language has the highest average number of stars per repository?"
   ]
  },
  {
   "cell_type": "code",
   "execution_count": 78,
   "metadata": {},
   "outputs": [
    {
     "data": {
      "text/plain": [
       "stargazers_count\n",
       "0       16458\n",
       "1        3877\n",
       "2        1619\n",
       "3         785\n",
       "4         584\n",
       "        ...  \n",
       "1019        1\n",
       "4979        1\n",
       "618         1\n",
       "979         1\n",
       "6242        1\n",
       "Name: count, Length: 1098, dtype: int64"
      ]
     },
     "execution_count": 78,
     "metadata": {},
     "output_type": "execute_result"
    }
   ],
   "source": [
    "repos[\"stargazers_count\"].value_counts()"
   ]
  },
  {
   "cell_type": "code",
   "execution_count": 81,
   "metadata": {},
   "outputs": [
    {
     "data": {
      "text/plain": [
       "language\n",
       "Jinja         3420.000000\n",
       "Solidity      1286.666667\n",
       "VBScript       698.000000\n",
       "Lex            643.000000\n",
       "TeX            294.222222\n",
       "Stylus         232.400000\n",
       "TypeScript     205.325088\n",
       "Java           190.801092\n",
       "MATLAB         189.840000\n",
       "VBA            182.000000\n",
       "Name: stargazers_count, dtype: float64"
      ]
     },
     "execution_count": 81,
     "metadata": {},
     "output_type": "execute_result"
    }
   ],
   "source": [
    "repos.groupby(\"language\")[\"stargazers_count\"].mean().nlargest(10)"
   ]
  },
  {
   "cell_type": "markdown",
   "metadata": {},
   "source": [
    "#### Q8: Let's define `leader_strength` as `followers / (1 + following)`. Who are the top 5 in terms of leader_strength? List their login in order, comma-separated."
   ]
  },
  {
   "cell_type": "code",
   "execution_count": 90,
   "metadata": {},
   "outputs": [],
   "source": [
    "users[\"leader_strength\"] = users[[\"followers\", \"following\"]].apply(\n",
    "    lambda x: x[\"followers\"] / (1 + x[\"following\"]), axis=1)"
   ]
  },
  {
   "cell_type": "code",
   "execution_count": 95,
   "metadata": {},
   "outputs": [
    {
     "data": {
      "text/plain": [
       "0     michaelliao\n",
       "9       ityouknow\n",
       "14    liuhuanyong\n",
       "32         thunlp\n",
       "35        shenghy\n",
       "Name: login, dtype: object"
      ]
     },
     "execution_count": 95,
     "metadata": {},
     "output_type": "execute_result"
    }
   ],
   "source": [
    "top_5_leaders = users.iloc[users[\"leader_strength\"].nlargest(5).index][\"login\"]\n",
    "top_5_leaders"
   ]
  },
  {
   "cell_type": "code",
   "execution_count": 96,
   "metadata": {},
   "outputs": [
    {
     "data": {
      "text/plain": [
       "'michaelliao,ityouknow,liuhuanyong,thunlp,shenghy'"
      ]
     },
     "execution_count": 96,
     "metadata": {},
     "output_type": "execute_result"
    }
   ],
   "source": [
    "\",\".join(top_5_leaders)"
   ]
  },
  {
   "cell_type": "code",
   "execution_count": null,
   "metadata": {},
   "outputs": [],
   "source": []
  }
 ],
 "metadata": {
  "kernelspec": {
   "display_name": "env",
   "language": "python",
   "name": "python3"
  },
  "language_info": {
   "codemirror_mode": {
    "name": "ipython",
    "version": 3
   },
   "file_extension": ".py",
   "mimetype": "text/x-python",
   "name": "python",
   "nbconvert_exporter": "python",
   "pygments_lexer": "ipython3",
   "version": "3.10.12"
  }
 },
 "nbformat": 4,
 "nbformat_minor": 2
}
