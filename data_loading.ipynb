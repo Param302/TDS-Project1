{
 "cells": [
  {
   "cell_type": "code",
   "execution_count": 2,
   "metadata": {},
   "outputs": [],
   "source": [
    "import os\n",
    "import time\n",
    "import requests\n",
    "import pandas as pd\n",
    "from dotenv import load_dotenv\n",
    "from multiprocessing import Pool"
   ]
  },
  {
   "cell_type": "code",
   "execution_count": 3,
   "metadata": {},
   "outputs": [],
   "source": [
    "load_dotenv()\n",
    "GITHUB_TOKEN = os.getenv(\"GITHUB_TOKEN\")\n",
    "HEADERS = {\n",
    "    \"User-Agent\": \"TDS Project 1\",\n",
    "    \"Authorization\": f\"token {GITHUB_TOKEN}\"\n",
    "}\n",
    "BASE_URL = \"https://api.github.com\""
   ]
  },
  {
   "cell_type": "markdown",
   "metadata": {},
   "source": [
    "## Scraping all users in the in the city of `Beijing` with over `500` followers"
   ]
  },
  {
   "cell_type": "markdown",
   "metadata": {},
   "source": [
    "#### `users.csv` has following information about each user in Beijing with over 500 followers, with fields:\n",
    "\n",
    "- `login`: Their Github user ID\n",
    "- `name`: Their full name\n",
    "- `company`: The company they work at. Clean up company names. At least make sure:\n",
    "- - They're trimmed of whitespace\n",
    "- - Leading `@` symbols are stripped\n",
    "- - They are converted to UPPERCASE\n",
    "- `location`: The city they are in\n",
    "- `email`: Their email address\n",
    "- `hireable`: Whether they are open to being hired\n",
    "- `bio`: A short bio about them\n",
    "- `public_repos`: The number of public repositories they have\n",
    "- `followers`: The number of followers they have\n",
    "- `following`: The number of people they are following\n",
    "- `created_at`: When they joined Github\n"
   ]
  },
  {
   "cell_type": "code",
   "execution_count": 82,
   "metadata": {},
   "outputs": [],
   "source": [
    "def get_user_details(user, **request_params):\n",
    "    url = f\"{BASE_URL}/users/{user['login']}\"\n",
    "    response = requests.get(url, **request_params)\n",
    "    if response.status_code != 200:\n",
    "        print(f\"Error fetching user details: {response.status_code}\")\n",
    "        return None\n",
    "\n",
    "    data = response.json()\n",
    "    return data"
   ]
  },
  {
   "cell_type": "code",
   "execution_count": 83,
   "metadata": {},
   "outputs": [],
   "source": [
    "def get_users_in_city(city, min_followers=500,  **request_params):\n",
    "    page = 1\n",
    "    users = pd.DataFrame([\n",
    "        \"login\", \"name\", \"company\", \"location\", \"email\", \"hireable\", \"bio\", \"public_repos\", \"followers\", \"following\", \"created_at\"\n",
    "    ])\n",
    "    users = None\n",
    "    while True:\n",
    "\n",
    "        url = f\"{BASE_URL}/search/users?q=location:{city}+followers:>{min_followers}&per_page=100&page={page}\"\n",
    "        response = requests.get(url, **request_params)\n",
    "        if response.status_code != 200:\n",
    "            print(f\"Error fetching users: {response.status_code}\")\n",
    "            break\n",
    "\n",
    "        data = response.json()\n",
    "        items = data.get(\"items\", [])\n",
    "\n",
    "        if users is None:\n",
    "            total_pages = int(response.links[\"last\"][\"url\"].split(\n",
    "                \"=\")[-1]) if \"last\" in response.links else 1\n",
    "\n",
    "        for user in items:\n",
    "            user_details = get_user_details(user, **request_params)\n",
    "            if user_details is None:\n",
    "                continue\n",
    "            if users is None:\n",
    "                users = pd.DataFrame(columns=user_details.keys())\n",
    "\n",
    "            users.loc[len(users)] = user_details.values()\n",
    "\n",
    "        print(f\"Fetched page {page}/{total_pages} - {len(items)} users\")\n",
    "\n",
    "        if \"next\" not in response.links:\n",
    "            break\n",
    "\n",
    "        page += 1\n",
    "        time.sleep(2)\n",
    "\n",
    "    return users"
   ]
  },
  {
   "cell_type": "code",
   "execution_count": 85,
   "metadata": {},
   "outputs": [
    {
     "name": "stdout",
     "output_type": "stream",
     "text": [
      "Fetched page 1/4 - 100 users\n",
      "Fetched page 2/4 - 100 users\n",
      "Fetched page 3/4 - 100 users\n",
      "Fetched page 4/4 - 60 users\n"
     ]
    }
   ],
   "source": [
    "user_details = get_users_in_city(\"Beijing\", headers=HEADERS)"
   ]
  },
  {
   "cell_type": "code",
   "execution_count": 90,
   "metadata": {},
   "outputs": [],
   "source": [
    "user_details.to_csv(\"./beijing_users.csv\", index=False)"
   ]
  },
  {
   "cell_type": "code",
   "execution_count": 16,
   "metadata": {},
   "outputs": [],
   "source": [
    "user_details = pd.read_csv(\"./beijing_users.csv\")"
   ]
  },
  {
   "cell_type": "code",
   "execution_count": 17,
   "metadata": {},
   "outputs": [
    {
     "data": {
      "text/plain": [
       "(360, 33)"
      ]
     },
     "execution_count": 17,
     "metadata": {},
     "output_type": "execute_result"
    }
   ],
   "source": [
    "user_details.shape"
   ]
  },
  {
   "cell_type": "code",
   "execution_count": 18,
   "metadata": {},
   "outputs": [
    {
     "data": {
      "text/html": [
       "<div>\n",
       "<style scoped>\n",
       "    .dataframe tbody tr th:only-of-type {\n",
       "        vertical-align: middle;\n",
       "    }\n",
       "\n",
       "    .dataframe tbody tr th {\n",
       "        vertical-align: top;\n",
       "    }\n",
       "\n",
       "    .dataframe thead th {\n",
       "        text-align: right;\n",
       "    }\n",
       "</style>\n",
       "<table border=\"1\" class=\"dataframe\">\n",
       "  <thead>\n",
       "    <tr style=\"text-align: right;\">\n",
       "      <th></th>\n",
       "      <th>login</th>\n",
       "      <th>id</th>\n",
       "      <th>node_id</th>\n",
       "      <th>avatar_url</th>\n",
       "      <th>gravatar_id</th>\n",
       "      <th>url</th>\n",
       "      <th>html_url</th>\n",
       "      <th>followers_url</th>\n",
       "      <th>following_url</th>\n",
       "      <th>gists_url</th>\n",
       "      <th>...</th>\n",
       "      <th>email</th>\n",
       "      <th>hireable</th>\n",
       "      <th>bio</th>\n",
       "      <th>twitter_username</th>\n",
       "      <th>public_repos</th>\n",
       "      <th>public_gists</th>\n",
       "      <th>followers</th>\n",
       "      <th>following</th>\n",
       "      <th>created_at</th>\n",
       "      <th>updated_at</th>\n",
       "    </tr>\n",
       "  </thead>\n",
       "  <tbody>\n",
       "    <tr>\n",
       "      <th>0</th>\n",
       "      <td>michaelliao</td>\n",
       "      <td>470058</td>\n",
       "      <td>MDQ6VXNlcjQ3MDA1OA==</td>\n",
       "      <td>https://avatars.githubusercontent.com/u/470058...</td>\n",
       "      <td>NaN</td>\n",
       "      <td>https://api.github.com/users/michaelliao</td>\n",
       "      <td>https://github.com/michaelliao</td>\n",
       "      <td>https://api.github.com/users/michaelliao/follo...</td>\n",
       "      <td>https://api.github.com/users/michaelliao/follo...</td>\n",
       "      <td>https://api.github.com/users/michaelliao/gists...</td>\n",
       "      <td>...</td>\n",
       "      <td>askxuefeng@gmail.com</td>\n",
       "      <td>NaN</td>\n",
       "      <td>Crypto developer.</td>\n",
       "      <td>liaoxuefeng</td>\n",
       "      <td>99</td>\n",
       "      <td>0</td>\n",
       "      <td>37235</td>\n",
       "      <td>3</td>\n",
       "      <td>2010-11-06T12:21:35Z</td>\n",
       "      <td>2024-10-11T08:36:39Z</td>\n",
       "    </tr>\n",
       "    <tr>\n",
       "      <th>1</th>\n",
       "      <td>daimajia</td>\n",
       "      <td>2503423</td>\n",
       "      <td>MDQ6VXNlcjI1MDM0MjM=</td>\n",
       "      <td>https://avatars.githubusercontent.com/u/250342...</td>\n",
       "      <td>NaN</td>\n",
       "      <td>https://api.github.com/users/daimajia</td>\n",
       "      <td>https://github.com/daimajia</td>\n",
       "      <td>https://api.github.com/users/daimajia/followers</td>\n",
       "      <td>https://api.github.com/users/daimajia/followin...</td>\n",
       "      <td>https://api.github.com/users/daimajia/gists{/g...</td>\n",
       "      <td>...</td>\n",
       "      <td>daimajia@gmail.com</td>\n",
       "      <td>NaN</td>\n",
       "      <td>Zhenfund VP of Investment.</td>\n",
       "      <td>daimajia</td>\n",
       "      <td>89</td>\n",
       "      <td>9</td>\n",
       "      <td>24632</td>\n",
       "      <td>271</td>\n",
       "      <td>2012-10-07T02:40:06Z</td>\n",
       "      <td>2024-10-02T20:13:18Z</td>\n",
       "    </tr>\n",
       "    <tr>\n",
       "      <th>2</th>\n",
       "      <td>xiaolai</td>\n",
       "      <td>152970</td>\n",
       "      <td>MDQ6VXNlcjE1Mjk3MA==</td>\n",
       "      <td>https://avatars.githubusercontent.com/u/152970...</td>\n",
       "      <td>NaN</td>\n",
       "      <td>https://api.github.com/users/xiaolai</td>\n",
       "      <td>https://github.com/xiaolai</td>\n",
       "      <td>https://api.github.com/users/xiaolai/followers</td>\n",
       "      <td>https://api.github.com/users/xiaolai/following...</td>\n",
       "      <td>https://api.github.com/users/xiaolai/gists{/gi...</td>\n",
       "      <td>...</td>\n",
       "      <td>lixiaolai@gmail.com</td>\n",
       "      <td>NaN</td>\n",
       "      <td>A lifelong student.</td>\n",
       "      <td>xiaolai</td>\n",
       "      <td>54</td>\n",
       "      <td>49</td>\n",
       "      <td>19238</td>\n",
       "      <td>37</td>\n",
       "      <td>2009-11-13T18:29:42Z</td>\n",
       "      <td>2024-10-04T02:13:28Z</td>\n",
       "    </tr>\n",
       "    <tr>\n",
       "      <th>3</th>\n",
       "      <td>draveness</td>\n",
       "      <td>6493255</td>\n",
       "      <td>MDQ6VXNlcjY0OTMyNTU=</td>\n",
       "      <td>https://avatars.githubusercontent.com/u/649325...</td>\n",
       "      <td>NaN</td>\n",
       "      <td>https://api.github.com/users/draveness</td>\n",
       "      <td>https://github.com/draveness</td>\n",
       "      <td>https://api.github.com/users/draveness/followers</td>\n",
       "      <td>https://api.github.com/users/draveness/followi...</td>\n",
       "      <td>https://api.github.com/users/draveness/gists{/...</td>\n",
       "      <td>...</td>\n",
       "      <td>i@draven.co</td>\n",
       "      <td>True</td>\n",
       "      <td>HFT / C++ / Go</td>\n",
       "      <td>draven907</td>\n",
       "      <td>50</td>\n",
       "      <td>27</td>\n",
       "      <td>13009</td>\n",
       "      <td>28</td>\n",
       "      <td>2014-01-24T16:22:01Z</td>\n",
       "      <td>2024-10-11T06:43:11Z</td>\n",
       "    </tr>\n",
       "    <tr>\n",
       "      <th>4</th>\n",
       "      <td>hongyangAndroid</td>\n",
       "      <td>10704521</td>\n",
       "      <td>MDQ6VXNlcjEwNzA0NTIx</td>\n",
       "      <td>https://avatars.githubusercontent.com/u/107045...</td>\n",
       "      <td>NaN</td>\n",
       "      <td>https://api.github.com/users/hongyangAndroid</td>\n",
       "      <td>https://github.com/hongyangAndroid</td>\n",
       "      <td>https://api.github.com/users/hongyangAndroid/f...</td>\n",
       "      <td>https://api.github.com/users/hongyangAndroid/f...</td>\n",
       "      <td>https://api.github.com/users/hongyangAndroid/g...</td>\n",
       "      <td>...</td>\n",
       "      <td>623565791@qq.com</td>\n",
       "      <td>True</td>\n",
       "      <td>学习ing</td>\n",
       "      <td>NaN</td>\n",
       "      <td>102</td>\n",
       "      <td>9</td>\n",
       "      <td>12985</td>\n",
       "      <td>35</td>\n",
       "      <td>2015-01-26T07:05:45Z</td>\n",
       "      <td>2024-07-03T06:14:21Z</td>\n",
       "    </tr>\n",
       "  </tbody>\n",
       "</table>\n",
       "<p>5 rows × 33 columns</p>\n",
       "</div>"
      ],
      "text/plain": [
       "             login        id               node_id  \\\n",
       "0      michaelliao    470058  MDQ6VXNlcjQ3MDA1OA==   \n",
       "1         daimajia   2503423  MDQ6VXNlcjI1MDM0MjM=   \n",
       "2          xiaolai    152970  MDQ6VXNlcjE1Mjk3MA==   \n",
       "3        draveness   6493255  MDQ6VXNlcjY0OTMyNTU=   \n",
       "4  hongyangAndroid  10704521  MDQ6VXNlcjEwNzA0NTIx   \n",
       "\n",
       "                                          avatar_url  gravatar_id  \\\n",
       "0  https://avatars.githubusercontent.com/u/470058...          NaN   \n",
       "1  https://avatars.githubusercontent.com/u/250342...          NaN   \n",
       "2  https://avatars.githubusercontent.com/u/152970...          NaN   \n",
       "3  https://avatars.githubusercontent.com/u/649325...          NaN   \n",
       "4  https://avatars.githubusercontent.com/u/107045...          NaN   \n",
       "\n",
       "                                            url  \\\n",
       "0      https://api.github.com/users/michaelliao   \n",
       "1         https://api.github.com/users/daimajia   \n",
       "2          https://api.github.com/users/xiaolai   \n",
       "3        https://api.github.com/users/draveness   \n",
       "4  https://api.github.com/users/hongyangAndroid   \n",
       "\n",
       "                             html_url  \\\n",
       "0      https://github.com/michaelliao   \n",
       "1         https://github.com/daimajia   \n",
       "2          https://github.com/xiaolai   \n",
       "3        https://github.com/draveness   \n",
       "4  https://github.com/hongyangAndroid   \n",
       "\n",
       "                                       followers_url  \\\n",
       "0  https://api.github.com/users/michaelliao/follo...   \n",
       "1    https://api.github.com/users/daimajia/followers   \n",
       "2     https://api.github.com/users/xiaolai/followers   \n",
       "3   https://api.github.com/users/draveness/followers   \n",
       "4  https://api.github.com/users/hongyangAndroid/f...   \n",
       "\n",
       "                                       following_url  \\\n",
       "0  https://api.github.com/users/michaelliao/follo...   \n",
       "1  https://api.github.com/users/daimajia/followin...   \n",
       "2  https://api.github.com/users/xiaolai/following...   \n",
       "3  https://api.github.com/users/draveness/followi...   \n",
       "4  https://api.github.com/users/hongyangAndroid/f...   \n",
       "\n",
       "                                           gists_url  ...  \\\n",
       "0  https://api.github.com/users/michaelliao/gists...  ...   \n",
       "1  https://api.github.com/users/daimajia/gists{/g...  ...   \n",
       "2  https://api.github.com/users/xiaolai/gists{/gi...  ...   \n",
       "3  https://api.github.com/users/draveness/gists{/...  ...   \n",
       "4  https://api.github.com/users/hongyangAndroid/g...  ...   \n",
       "\n",
       "                  email hireable                         bio twitter_username  \\\n",
       "0  askxuefeng@gmail.com      NaN           Crypto developer.      liaoxuefeng   \n",
       "1    daimajia@gmail.com      NaN  Zhenfund VP of Investment.         daimajia   \n",
       "2   lixiaolai@gmail.com      NaN         A lifelong student.          xiaolai   \n",
       "3           i@draven.co     True              HFT / C++ / Go        draven907   \n",
       "4      623565791@qq.com     True                       学习ing              NaN   \n",
       "\n",
       "  public_repos public_gists followers following            created_at  \\\n",
       "0           99            0     37235         3  2010-11-06T12:21:35Z   \n",
       "1           89            9     24632       271  2012-10-07T02:40:06Z   \n",
       "2           54           49     19238        37  2009-11-13T18:29:42Z   \n",
       "3           50           27     13009        28  2014-01-24T16:22:01Z   \n",
       "4          102            9     12985        35  2015-01-26T07:05:45Z   \n",
       "\n",
       "             updated_at  \n",
       "0  2024-10-11T08:36:39Z  \n",
       "1  2024-10-02T20:13:18Z  \n",
       "2  2024-10-04T02:13:28Z  \n",
       "3  2024-10-11T06:43:11Z  \n",
       "4  2024-07-03T06:14:21Z  \n",
       "\n",
       "[5 rows x 33 columns]"
      ]
     },
     "execution_count": 18,
     "metadata": {},
     "output_type": "execute_result"
    }
   ],
   "source": [
    "user_details.head()"
   ]
  },
  {
   "cell_type": "code",
   "execution_count": 19,
   "metadata": {},
   "outputs": [
    {
     "name": "stdout",
     "output_type": "stream",
     "text": [
      "<class 'pandas.core.frame.DataFrame'>\n",
      "RangeIndex: 360 entries, 0 to 359\n",
      "Data columns (total 33 columns):\n",
      " #   Column               Non-Null Count  Dtype  \n",
      "---  ------               --------------  -----  \n",
      " 0   login                360 non-null    object \n",
      " 1   id                   360 non-null    int64  \n",
      " 2   node_id              360 non-null    object \n",
      " 3   avatar_url           360 non-null    object \n",
      " 4   gravatar_id          0 non-null      float64\n",
      " 5   url                  360 non-null    object \n",
      " 6   html_url             360 non-null    object \n",
      " 7   followers_url        360 non-null    object \n",
      " 8   following_url        360 non-null    object \n",
      " 9   gists_url            360 non-null    object \n",
      " 10  starred_url          360 non-null    object \n",
      " 11  subscriptions_url    360 non-null    object \n",
      " 12  organizations_url    360 non-null    object \n",
      " 13  repos_url            360 non-null    object \n",
      " 14  events_url           360 non-null    object \n",
      " 15  received_events_url  360 non-null    object \n",
      " 16  type                 360 non-null    object \n",
      " 17  user_view_type       360 non-null    object \n",
      " 18  site_admin           360 non-null    bool   \n",
      " 19  name                 341 non-null    object \n",
      " 20  company              233 non-null    object \n",
      " 21  blog                 265 non-null    object \n",
      " 22  location             360 non-null    object \n",
      " 23  email                252 non-null    object \n",
      " 24  hireable             101 non-null    object \n",
      " 25  bio                  272 non-null    object \n",
      " 26  twitter_username     85 non-null     object \n",
      " 27  public_repos         360 non-null    int64  \n",
      " 28  public_gists         360 non-null    int64  \n",
      " 29  followers            360 non-null    int64  \n",
      " 30  following            360 non-null    int64  \n",
      " 31  created_at           360 non-null    object \n",
      " 32  updated_at           360 non-null    object \n",
      "dtypes: bool(1), float64(1), int64(5), object(26)\n",
      "memory usage: 90.5+ KB\n"
     ]
    }
   ],
   "source": [
    "user_details.info()"
   ]
  },
  {
   "cell_type": "code",
   "execution_count": 20,
   "metadata": {},
   "outputs": [
    {
     "data": {
      "text/plain": [
       "276                                 NaN\n",
       "191                               baidu\n",
       "310                      Bytedance Inc.\n",
       "125                      Bytedance, Inc\n",
       "297                       Alibaba Cloud\n",
       "123                                 NaN\n",
       "148          Institute of Software, CAS\n",
       "346                                 NaN\n",
       "27                 @apache  @tetrateio \n",
       "254                      DreamSourceLab\n",
       "171                                  小米\n",
       "37                          studygolang\n",
       "139    @apache @shardingjdbc @SphereEx \n",
       "214                         Xiaomi Corp\n",
       "215                             Alibaba\n",
       "60                  Tsinghua University\n",
       "342                 nt authority\\system\n",
       "102                                  美团\n",
       "331                 tsinghua university\n",
       "288                           @chaitin \n",
       "Name: company, dtype: object"
      ]
     },
     "execution_count": 20,
     "metadata": {},
     "output_type": "execute_result"
    }
   ],
   "source": [
    "user_details[\"company\"].sample(20)"
   ]
  },
  {
   "cell_type": "code",
   "execution_count": 21,
   "metadata": {},
   "outputs": [],
   "source": [
    "def fix_company_name(company):\n",
    "    if company == \"null\":\n",
    "        return company\n",
    "    return company.strip().lstrip(\"@\").upper()"
   ]
  },
  {
   "cell_type": "code",
   "execution_count": 22,
   "metadata": {},
   "outputs": [],
   "source": [
    "cols = [\"login\", \"name\", \"company\", \"location\", \"email\",\n",
    "        \"hireable\", \"bio\", \"public_repos\", \"followers\", \"following\", \"created_at\"]"
   ]
  },
  {
   "cell_type": "code",
   "execution_count": 25,
   "metadata": {},
   "outputs": [
    {
     "name": "stderr",
     "output_type": "stream",
     "text": [
      "/tmp/ipykernel_886921/4142162028.py:4: FutureWarning: Downcasting behavior in `replace` is deprecated and will be removed in a future version. To retain the old behavior, explicitly call `result.infer_objects(copy=False)`. To opt-in to the future behavior, set `pd.set_option('future.no_silent_downcasting', True)`\n",
      "  user_df[\"hireable\"] = user_df[\"hireable\"].replace({None: False})\n"
     ]
    },
    {
     "data": {
      "text/html": [
       "<div>\n",
       "<style scoped>\n",
       "    .dataframe tbody tr th:only-of-type {\n",
       "        vertical-align: middle;\n",
       "    }\n",
       "\n",
       "    .dataframe tbody tr th {\n",
       "        vertical-align: top;\n",
       "    }\n",
       "\n",
       "    .dataframe thead th {\n",
       "        text-align: right;\n",
       "    }\n",
       "</style>\n",
       "<table border=\"1\" class=\"dataframe\">\n",
       "  <thead>\n",
       "    <tr style=\"text-align: right;\">\n",
       "      <th></th>\n",
       "      <th>login</th>\n",
       "      <th>name</th>\n",
       "      <th>company</th>\n",
       "      <th>location</th>\n",
       "      <th>email</th>\n",
       "      <th>hireable</th>\n",
       "      <th>bio</th>\n",
       "      <th>public_repos</th>\n",
       "      <th>followers</th>\n",
       "      <th>following</th>\n",
       "      <th>created_at</th>\n",
       "    </tr>\n",
       "  </thead>\n",
       "  <tbody>\n",
       "    <tr>\n",
       "      <th>0</th>\n",
       "      <td>michaelliao</td>\n",
       "      <td>Crypto Michael</td>\n",
       "      <td>null</td>\n",
       "      <td>Beijing, China</td>\n",
       "      <td>askxuefeng@gmail.com</td>\n",
       "      <td>False</td>\n",
       "      <td>Crypto developer.</td>\n",
       "      <td>99</td>\n",
       "      <td>37235</td>\n",
       "      <td>3</td>\n",
       "      <td>2010-11-06T12:21:35Z</td>\n",
       "    </tr>\n",
       "    <tr>\n",
       "      <th>1</th>\n",
       "      <td>daimajia</td>\n",
       "      <td>代码家</td>\n",
       "      <td>ZHENFUND BEIJING</td>\n",
       "      <td>Beijing, China</td>\n",
       "      <td>daimajia@gmail.com</td>\n",
       "      <td>False</td>\n",
       "      <td>Zhenfund VP of Investment.</td>\n",
       "      <td>89</td>\n",
       "      <td>24632</td>\n",
       "      <td>271</td>\n",
       "      <td>2012-10-07T02:40:06Z</td>\n",
       "    </tr>\n",
       "    <tr>\n",
       "      <th>2</th>\n",
       "      <td>xiaolai</td>\n",
       "      <td>xiaolai</td>\n",
       "      <td>INBLOCKCHAIN</td>\n",
       "      <td>beijing</td>\n",
       "      <td>lixiaolai@gmail.com</td>\n",
       "      <td>False</td>\n",
       "      <td>A lifelong student.</td>\n",
       "      <td>54</td>\n",
       "      <td>19238</td>\n",
       "      <td>37</td>\n",
       "      <td>2009-11-13T18:29:42Z</td>\n",
       "    </tr>\n",
       "    <tr>\n",
       "      <th>3</th>\n",
       "      <td>draveness</td>\n",
       "      <td>Draven</td>\n",
       "      <td>SPECTRA-FUND</td>\n",
       "      <td>Beijing, China</td>\n",
       "      <td>i@draven.co</td>\n",
       "      <td>True</td>\n",
       "      <td>HFT / C++ / Go</td>\n",
       "      <td>50</td>\n",
       "      <td>13009</td>\n",
       "      <td>28</td>\n",
       "      <td>2014-01-24T16:22:01Z</td>\n",
       "    </tr>\n",
       "    <tr>\n",
       "      <th>4</th>\n",
       "      <td>hongyangAndroid</td>\n",
       "      <td>张鸿洋</td>\n",
       "      <td>WANANDROID.COM</td>\n",
       "      <td>Beijing,China</td>\n",
       "      <td>623565791@qq.com</td>\n",
       "      <td>True</td>\n",
       "      <td>学习ing</td>\n",
       "      <td>102</td>\n",
       "      <td>12985</td>\n",
       "      <td>35</td>\n",
       "      <td>2015-01-26T07:05:45Z</td>\n",
       "    </tr>\n",
       "  </tbody>\n",
       "</table>\n",
       "</div>"
      ],
      "text/plain": [
       "             login            name           company        location  \\\n",
       "0      michaelliao  Crypto Michael              null  Beijing, China   \n",
       "1         daimajia             代码家  ZHENFUND BEIJING  Beijing, China   \n",
       "2          xiaolai         xiaolai      INBLOCKCHAIN         beijing   \n",
       "3        draveness          Draven      SPECTRA-FUND  Beijing, China   \n",
       "4  hongyangAndroid             张鸿洋    WANANDROID.COM   Beijing,China   \n",
       "\n",
       "                  email  hireable                         bio  public_repos  \\\n",
       "0  askxuefeng@gmail.com     False           Crypto developer.            99   \n",
       "1    daimajia@gmail.com     False  Zhenfund VP of Investment.            89   \n",
       "2   lixiaolai@gmail.com     False         A lifelong student.            54   \n",
       "3           i@draven.co      True              HFT / C++ / Go            50   \n",
       "4      623565791@qq.com      True                       学习ing           102   \n",
       "\n",
       "   followers  following            created_at  \n",
       "0      37235          3  2010-11-06T12:21:35Z  \n",
       "1      24632        271  2012-10-07T02:40:06Z  \n",
       "2      19238         37  2009-11-13T18:29:42Z  \n",
       "3      13009         28  2014-01-24T16:22:01Z  \n",
       "4      12985         35  2015-01-26T07:05:45Z  "
      ]
     },
     "execution_count": 25,
     "metadata": {},
     "output_type": "execute_result"
    }
   ],
   "source": [
    "user_df = user_details[cols].copy(deep=True)\n",
    "user_df[[\"login\", \"name\", \"email\", \"company\", \"bio\", \"created_at\"]] = user_df[[\n",
    "    \"login\", \"name\", \"email\", \"company\", \"bio\", \"created_at\"]].replace({None: \"null\"})\n",
    "user_df[\"hireable\"] = user_df[\"hireable\"].replace({None: False})\n",
    "user_df[\"company\"] = user_df[\"company\"].apply(fix_company_name)\n",
    "user_df.head()"
   ]
  },
  {
   "cell_type": "code",
   "execution_count": 26,
   "metadata": {},
   "outputs": [
    {
     "data": {
      "text/plain": [
       "(360, 11)"
      ]
     },
     "execution_count": 26,
     "metadata": {},
     "output_type": "execute_result"
    }
   ],
   "source": [
    "user_df.shape"
   ]
  },
  {
   "cell_type": "code",
   "execution_count": 27,
   "metadata": {},
   "outputs": [],
   "source": [
    "user_df.to_csv(\"users.csv\", index=False)"
   ]
  },
  {
   "cell_type": "markdown",
   "metadata": {},
   "source": [
    "#### `repositories.csv` has these users' public repositories. For each user in users.csv, fetch up to the 500 most recently pushed repositories, with fields:\n",
    "\n",
    "- `login`: The Github user ID (login) of the owner, which, BTW, is not directly in the API response.\n",
    "- `full_name`: Full name of the repository\n",
    "- `created_at`: When the repository was created\n",
    "- `stargazers_count`: Number of stars the repository has\n",
    "- `watchers_count`: Number of watchers the repository has\n",
    "- `language`: The programming language the repository is written in\n",
    "- `has_projects`: Whether the repository has projects enabled\n",
    "- `has_wiki`: Whether the repository has a wiki\n",
    "- `license_name`: Name of the license the repository is under (This is under license.key)"
   ]
  },
  {
   "cell_type": "code",
   "execution_count": 3,
   "metadata": {},
   "outputs": [],
   "source": [
    "def get_user_repos(user, **request_params):\n",
    "    repos = None\n",
    "    page = 1\n",
    "    last_page = 5\n",
    "    while page <= last_page:\n",
    "        url = f\"{BASE_URL}/users/{user}/repos?per_page={100}&page={page}&sort=pushed\"\n",
    "        response = requests.get(url, **request_params)\n",
    "\n",
    "        if response.status_code != 200:\n",
    "            print(f\"Error fetching user repos: {response.status_code}\")\n",
    "            return repos\n",
    "\n",
    "        data = response.json()\n",
    "\n",
    "        if 'last' in response.links:\n",
    "            last_page = int(response.links['last']\n",
    "                            ['url'].split('=')[-3].split('&')[0])\n",
    "\n",
    "        if last_page > 5:\n",
    "            last_page = 5\n",
    "\n",
    "        if repos is None:\n",
    "            repos = pd.DataFrame(columns=data[0].keys())\n",
    "\n",
    "        for repo in data:\n",
    "            repos.loc[len(repos)] = repo.values()\n",
    "\n",
    "        page += 1\n",
    "        time.sleep(2)\n",
    "\n",
    "    return repos"
   ]
  },
  {
   "cell_type": "code",
   "execution_count": 4,
   "metadata": {},
   "outputs": [],
   "source": [
    "def fetch_repos(users, request_params):\n",
    "    repos = None\n",
    "    print(\n",
    "        f\"Fetching repos for {len(users)} users - [{users.index[0]} - {users.index[-1]}]\")\n",
    "    for user in users[\"login\"]:\n",
    "        user_repos = get_user_repos(user, **request_params)\n",
    "        if user_repos is None:\n",
    "            continue\n",
    "        if repos is None:\n",
    "            repos = pd.DataFrame(columns=user_repos.columns)\n",
    "\n",
    "        repos = pd.concat([repos, user_repos], ignore_index=True)\n",
    "\n",
    "    print(\n",
    "        f\"Finished fetching Repos for {len(users)} users - [{users.index[0]} - {users.index[-1]}]\")\n",
    "\n",
    "    return repos"
   ]
  },
  {
   "cell_type": "code",
   "execution_count": null,
   "metadata": {},
   "outputs": [],
   "source": [
    "repos = fetch_repos(user_df.iloc[:10], HEADERS)\n",
    "repos.shape"
   ]
  },
  {
   "cell_type": "code",
   "execution_count": 143,
   "metadata": {},
   "outputs": [],
   "source": [
    "repos.to_csv(\"repos.csv\", index=False)"
   ]
  },
  {
   "cell_type": "markdown",
   "metadata": {},
   "source": [
    "Having `360` users will take a lotttt of time to fetch their 500 repos, so let's do it in multiprocessing."
   ]
  },
  {
   "cell_type": "code",
   "execution_count": 17,
   "metadata": {},
   "outputs": [],
   "source": [
    "def fetch_repos_multi(users, processes=10, **request_params):\n",
    "    user_batches = [users.iloc[i::processes] for i in range(processes)]\n",
    "    with Pool(processes=processes) as pool:\n",
    "        results = pool.starmap(\n",
    "            fetch_repos, [(batch, request_params) for batch in user_batches])\n",
    "\n",
    "    repos = pd.concat(results, ignore_index=True)\n",
    "    return repos"
   ]
  },
  {
   "cell_type": "code",
   "execution_count": 101,
   "metadata": {},
   "outputs": [
    {
     "data": {
      "text/plain": [
       "(360, 10)"
      ]
     },
     "execution_count": 101,
     "metadata": {},
     "output_type": "execute_result"
    }
   ],
   "source": [
    "user_df.shape"
   ]
  },
  {
   "cell_type": "code",
   "execution_count": 20,
   "metadata": {},
   "outputs": [
    {
     "name": "stdout",
     "output_type": "stream",
     "text": [
      "Fetching repos for 36 users - [0 - 350]Fetching repos for 36 users - [1 - 351]Fetching repos for 36 users - [2 - 352]Fetching repos for 36 users - [3 - 353]\n",
      "Fetching repos for 36 users - [4 - 354]\n",
      "\n",
      "Fetching repos for 36 users - [6 - 356]\n",
      "Fetching repos for 36 users - [7 - 357]Fetching repos for 36 users - [8 - 358]Fetching repos for 36 users - [5 - 355]\n",
      "\n",
      "\n",
      "\n",
      "\n",
      "Fetching repos for 36 users - [9 - 359]\n",
      "Finished fetching Repos for 36 users - [4 - 354]\n",
      "Finished fetching Repos for 36 users - [9 - 359]\n",
      "Finished fetching Repos for 36 users - [2 - 352]\n",
      "Finished fetching Repos for 36 users - [8 - 358]\n",
      "Finished fetching Repos for 36 users - [3 - 353]\n",
      "Finished fetching Repos for 36 users - [6 - 356]\n",
      "Finished fetching Repos for 36 users - [1 - 351]\n",
      "Finished fetching Repos for 36 users - [5 - 355]\n",
      "Finished fetching Repos for 36 users - [7 - 357]\n",
      "Finished fetching Repos for 36 users - [0 - 350]\n"
     ]
    }
   ],
   "source": [
    "repos = fetch_repos_multi(user_df, processes=10, headers=HEADERS)"
   ]
  },
  {
   "cell_type": "markdown",
   "metadata": {},
   "source": [
    "Let's verify the total number of repos"
   ]
  },
  {
   "cell_type": "code",
   "execution_count": 103,
   "metadata": {},
   "outputs": [
    {
     "data": {
      "text/plain": [
       "(29561, 81)"
      ]
     },
     "execution_count": 103,
     "metadata": {},
     "output_type": "execute_result"
    }
   ],
   "source": [
    "repos.shape"
   ]
  },
  {
   "cell_type": "code",
   "execution_count": 104,
   "metadata": {},
   "outputs": [
    {
     "data": {
      "text/plain": [
       "np.int64(29556)"
      ]
     },
     "execution_count": 104,
     "metadata": {},
     "output_type": "execute_result"
    }
   ],
   "source": [
    "user_details[\"public_repos\"].apply(lambda x: 500 if x > 500 else x).sum()"
   ]
  },
  {
   "cell_type": "markdown",
   "metadata": {},
   "source": [
    "So, we have some ambiguity, we are having $5$ extra repos, let's fix that.\n",
    "\n",
    "> turns out, that ambiguity was there bcz 5 users created a new repo after we fetched their repos, so we are good to go."
   ]
  },
  {
   "cell_type": "code",
   "execution_count": 25,
   "metadata": {},
   "outputs": [],
   "source": [
    "repos.to_parquet(\"./repos.parquet\", index=False)"
   ]
  },
  {
   "cell_type": "markdown",
   "metadata": {},
   "source": [
    "##### filtering data"
   ]
  },
  {
   "cell_type": "code",
   "execution_count": 4,
   "metadata": {},
   "outputs": [],
   "source": [
    "repos = pd.read_parquet(\"./repos.parquet\")"
   ]
  },
  {
   "cell_type": "code",
   "execution_count": 5,
   "metadata": {},
   "outputs": [
    {
     "data": {
      "text/plain": [
       "['login', 'license_name']"
      ]
     },
     "execution_count": 5,
     "metadata": {},
     "output_type": "execute_result"
    }
   ],
   "source": [
    "cols = [\"login\", \"full_name\", \"created_at\", \"stargazers_count\",\n",
    "        \"watchers_count\", \"language\", \"has_projects\", \"has_wiki\", \"license_name\"]\n",
    "\n",
    "[col for col in cols if col not in repos.columns]"
   ]
  },
  {
   "cell_type": "code",
   "execution_count": 7,
   "metadata": {},
   "outputs": [],
   "source": [
    "repos[\"login\"] = repos[\"owner\"].apply(lambda x: x[\"login\"])"
   ]
  },
  {
   "cell_type": "code",
   "execution_count": 8,
   "metadata": {},
   "outputs": [],
   "source": [
    "repos[\"license_name\"] = repos[\"license\"].apply(\n",
    "    lambda x: x[\"key\"] if x is not None else \"null\")"
   ]
  },
  {
   "cell_type": "code",
   "execution_count": 9,
   "metadata": {},
   "outputs": [
    {
     "data": {
      "text/html": [
       "<div>\n",
       "<style scoped>\n",
       "    .dataframe tbody tr th:only-of-type {\n",
       "        vertical-align: middle;\n",
       "    }\n",
       "\n",
       "    .dataframe tbody tr th {\n",
       "        vertical-align: top;\n",
       "    }\n",
       "\n",
       "    .dataframe thead th {\n",
       "        text-align: right;\n",
       "    }\n",
       "</style>\n",
       "<table border=\"1\" class=\"dataframe\">\n",
       "  <thead>\n",
       "    <tr style=\"text-align: right;\">\n",
       "      <th></th>\n",
       "      <th>login</th>\n",
       "      <th>full_name</th>\n",
       "      <th>created_at</th>\n",
       "      <th>stargazers_count</th>\n",
       "      <th>watchers_count</th>\n",
       "      <th>language</th>\n",
       "      <th>has_projects</th>\n",
       "      <th>has_wiki</th>\n",
       "      <th>license_name</th>\n",
       "    </tr>\n",
       "  </thead>\n",
       "  <tbody>\n",
       "    <tr>\n",
       "      <th>0</th>\n",
       "      <td>michaelliao</td>\n",
       "      <td>michaelliao/liaoxuefeng.com</td>\n",
       "      <td>2023-11-02T11:19:06Z</td>\n",
       "      <td>35</td>\n",
       "      <td>35</td>\n",
       "      <td>JavaScript</td>\n",
       "      <td>False</td>\n",
       "      <td>False</td>\n",
       "      <td>other</td>\n",
       "    </tr>\n",
       "    <tr>\n",
       "      <th>1</th>\n",
       "      <td>michaelliao</td>\n",
       "      <td>michaelliao/warpdb</td>\n",
       "      <td>2016-03-26T00:32:51Z</td>\n",
       "      <td>89</td>\n",
       "      <td>89</td>\n",
       "      <td>Java</td>\n",
       "      <td>True</td>\n",
       "      <td>True</td>\n",
       "      <td>gpl-3.0</td>\n",
       "    </tr>\n",
       "    <tr>\n",
       "      <th>2</th>\n",
       "      <td>michaelliao</td>\n",
       "      <td>michaelliao/gitignore-online-generator</td>\n",
       "      <td>2022-11-20T02:28:38Z</td>\n",
       "      <td>54</td>\n",
       "      <td>54</td>\n",
       "      <td>HTML</td>\n",
       "      <td>False</td>\n",
       "      <td>False</td>\n",
       "      <td>cc0-1.0</td>\n",
       "    </tr>\n",
       "    <tr>\n",
       "      <th>3</th>\n",
       "      <td>michaelliao</td>\n",
       "      <td>michaelliao/learngit</td>\n",
       "      <td>2018-05-18T13:34:21Z</td>\n",
       "      <td>435</td>\n",
       "      <td>435</td>\n",
       "      <td>None</td>\n",
       "      <td>True</td>\n",
       "      <td>True</td>\n",
       "      <td>null</td>\n",
       "    </tr>\n",
       "    <tr>\n",
       "      <th>4</th>\n",
       "      <td>michaelliao</td>\n",
       "      <td>michaelliao/gitsite-cli</td>\n",
       "      <td>2023-11-05T06:54:49Z</td>\n",
       "      <td>4</td>\n",
       "      <td>4</td>\n",
       "      <td>HTML</td>\n",
       "      <td>True</td>\n",
       "      <td>True</td>\n",
       "      <td>mit</td>\n",
       "    </tr>\n",
       "  </tbody>\n",
       "</table>\n",
       "</div>"
      ],
      "text/plain": [
       "         login                               full_name            created_at  \\\n",
       "0  michaelliao             michaelliao/liaoxuefeng.com  2023-11-02T11:19:06Z   \n",
       "1  michaelliao                      michaelliao/warpdb  2016-03-26T00:32:51Z   \n",
       "2  michaelliao  michaelliao/gitignore-online-generator  2022-11-20T02:28:38Z   \n",
       "3  michaelliao                    michaelliao/learngit  2018-05-18T13:34:21Z   \n",
       "4  michaelliao                 michaelliao/gitsite-cli  2023-11-05T06:54:49Z   \n",
       "\n",
       "   stargazers_count  watchers_count    language  has_projects  has_wiki  \\\n",
       "0                35              35  JavaScript         False     False   \n",
       "1                89              89        Java          True      True   \n",
       "2                54              54        HTML         False     False   \n",
       "3               435             435        None          True      True   \n",
       "4                 4               4        HTML          True      True   \n",
       "\n",
       "  license_name  \n",
       "0        other  \n",
       "1      gpl-3.0  \n",
       "2      cc0-1.0  \n",
       "3         null  \n",
       "4          mit  "
      ]
     },
     "execution_count": 9,
     "metadata": {},
     "output_type": "execute_result"
    }
   ],
   "source": [
    "repo_data = repos[cols].copy(deep=True)\n",
    "repo_data.head()"
   ]
  },
  {
   "cell_type": "code",
   "execution_count": 11,
   "metadata": {},
   "outputs": [],
   "source": [
    "repo_data[[\"language\", \"has_projects\", \"has_wiki\"]] = repo_data[[\"language\", \"has_projects\", \"has_wiki\"]].replace(\n",
    "    {False: \"false\", True: \"true\", None: \"null\"})"
   ]
  },
  {
   "cell_type": "code",
   "execution_count": 12,
   "metadata": {},
   "outputs": [
    {
     "data": {
      "text/html": [
       "<div>\n",
       "<style scoped>\n",
       "    .dataframe tbody tr th:only-of-type {\n",
       "        vertical-align: middle;\n",
       "    }\n",
       "\n",
       "    .dataframe tbody tr th {\n",
       "        vertical-align: top;\n",
       "    }\n",
       "\n",
       "    .dataframe thead th {\n",
       "        text-align: right;\n",
       "    }\n",
       "</style>\n",
       "<table border=\"1\" class=\"dataframe\">\n",
       "  <thead>\n",
       "    <tr style=\"text-align: right;\">\n",
       "      <th></th>\n",
       "      <th>login</th>\n",
       "      <th>full_name</th>\n",
       "      <th>created_at</th>\n",
       "      <th>stargazers_count</th>\n",
       "      <th>watchers_count</th>\n",
       "      <th>language</th>\n",
       "      <th>has_projects</th>\n",
       "      <th>has_wiki</th>\n",
       "      <th>license_name</th>\n",
       "    </tr>\n",
       "  </thead>\n",
       "  <tbody>\n",
       "    <tr>\n",
       "      <th>0</th>\n",
       "      <td>michaelliao</td>\n",
       "      <td>michaelliao/liaoxuefeng.com</td>\n",
       "      <td>2023-11-02T11:19:06Z</td>\n",
       "      <td>35</td>\n",
       "      <td>35</td>\n",
       "      <td>JavaScript</td>\n",
       "      <td>false</td>\n",
       "      <td>false</td>\n",
       "      <td>other</td>\n",
       "    </tr>\n",
       "    <tr>\n",
       "      <th>1</th>\n",
       "      <td>michaelliao</td>\n",
       "      <td>michaelliao/warpdb</td>\n",
       "      <td>2016-03-26T00:32:51Z</td>\n",
       "      <td>89</td>\n",
       "      <td>89</td>\n",
       "      <td>Java</td>\n",
       "      <td>true</td>\n",
       "      <td>true</td>\n",
       "      <td>gpl-3.0</td>\n",
       "    </tr>\n",
       "    <tr>\n",
       "      <th>2</th>\n",
       "      <td>michaelliao</td>\n",
       "      <td>michaelliao/gitignore-online-generator</td>\n",
       "      <td>2022-11-20T02:28:38Z</td>\n",
       "      <td>54</td>\n",
       "      <td>54</td>\n",
       "      <td>HTML</td>\n",
       "      <td>false</td>\n",
       "      <td>false</td>\n",
       "      <td>cc0-1.0</td>\n",
       "    </tr>\n",
       "    <tr>\n",
       "      <th>3</th>\n",
       "      <td>michaelliao</td>\n",
       "      <td>michaelliao/learngit</td>\n",
       "      <td>2018-05-18T13:34:21Z</td>\n",
       "      <td>435</td>\n",
       "      <td>435</td>\n",
       "      <td>null</td>\n",
       "      <td>true</td>\n",
       "      <td>true</td>\n",
       "      <td>null</td>\n",
       "    </tr>\n",
       "    <tr>\n",
       "      <th>4</th>\n",
       "      <td>michaelliao</td>\n",
       "      <td>michaelliao/gitsite-cli</td>\n",
       "      <td>2023-11-05T06:54:49Z</td>\n",
       "      <td>4</td>\n",
       "      <td>4</td>\n",
       "      <td>HTML</td>\n",
       "      <td>true</td>\n",
       "      <td>true</td>\n",
       "      <td>mit</td>\n",
       "    </tr>\n",
       "  </tbody>\n",
       "</table>\n",
       "</div>"
      ],
      "text/plain": [
       "         login                               full_name            created_at  \\\n",
       "0  michaelliao             michaelliao/liaoxuefeng.com  2023-11-02T11:19:06Z   \n",
       "1  michaelliao                      michaelliao/warpdb  2016-03-26T00:32:51Z   \n",
       "2  michaelliao  michaelliao/gitignore-online-generator  2022-11-20T02:28:38Z   \n",
       "3  michaelliao                    michaelliao/learngit  2018-05-18T13:34:21Z   \n",
       "4  michaelliao                 michaelliao/gitsite-cli  2023-11-05T06:54:49Z   \n",
       "\n",
       "   stargazers_count  watchers_count    language has_projects has_wiki  \\\n",
       "0                35              35  JavaScript        false    false   \n",
       "1                89              89        Java         true     true   \n",
       "2                54              54        HTML        false    false   \n",
       "3               435             435        null         true     true   \n",
       "4                 4               4        HTML         true     true   \n",
       "\n",
       "  license_name  \n",
       "0        other  \n",
       "1      gpl-3.0  \n",
       "2      cc0-1.0  \n",
       "3         null  \n",
       "4          mit  "
      ]
     },
     "execution_count": 12,
     "metadata": {},
     "output_type": "execute_result"
    }
   ],
   "source": [
    "repo_data.head()"
   ]
  },
  {
   "cell_type": "code",
   "execution_count": 13,
   "metadata": {},
   "outputs": [],
   "source": [
    "repo_data.to_csv(\"repositories.csv\", index=False)"
   ]
  },
  {
   "cell_type": "code",
   "execution_count": null,
   "metadata": {},
   "outputs": [],
   "source": []
  }
 ],
 "metadata": {
  "kernelspec": {
   "display_name": "env",
   "language": "python",
   "name": "python3"
  },
  "language_info": {
   "codemirror_mode": {
    "name": "ipython",
    "version": 3
   },
   "file_extension": ".py",
   "mimetype": "text/x-python",
   "name": "python",
   "nbconvert_exporter": "python",
   "pygments_lexer": "ipython3",
   "version": "3.10.12"
  }
 },
 "nbformat": 4,
 "nbformat_minor": 2
}
